{
 "cells": [
  {
   "cell_type": "markdown",
   "metadata": {},
   "source": [
    "# Q1\n",
    "Find the highest second value in the given list = [2, 2, 1, 5, 8, 25, -1, 0, 2, 3, 1]"
   ]
  },
  {
   "cell_type": "code",
   "execution_count": 1,
   "metadata": {},
   "outputs": [
    {
     "name": "stdout",
     "output_type": "stream",
     "text": [
      "8\n"
     ]
    }
   ],
   "source": [
    "given_list = [2, 2, 1, 5, 8, 25, -1, 0, 2, 3, 1]\n",
    "  \n",
    "def get_second_largest(given_list):\n",
    "    largest = None\n",
    "    second_largest = None\n",
    "    \n",
    "    for value in given_list:\n",
    "        if largest is None or largest < value:\n",
    "            second_largest = largest\n",
    "            largest = value\n",
    "        elif second_largest is None:\n",
    "            second_largest = value\n",
    "            \n",
    "    return second_largest\n",
    "\n",
    "\n",
    "print(get_second_largest(given_list))"
   ]
  },
  {
   "cell_type": "markdown",
   "metadata": {},
   "source": [
    "# Q2\n",
    "Sort this list to ascending order and remove negative values = [5, 8, -1, 2, 2, -7, 4, 0, -4]"
   ]
  },
  {
   "cell_type": "code",
   "execution_count": 2,
   "metadata": {},
   "outputs": [
    {
     "data": {
      "text/plain": [
       "[0, 2, 2, 4, 5, 8]"
      ]
     },
     "execution_count": 2,
     "metadata": {},
     "output_type": "execute_result"
    }
   ],
   "source": [
    "values = [5, 8, -1, 2, 2, -7, 4, 0, -4]\n",
    "\n",
    "def get_positive_sorted(values):\n",
    "    num_list = [value for value in values if value >= 0]\n",
    "    num_list.sort()\n",
    "    return num_list\n",
    "\n",
    "get_positive_sorted(values)"
   ]
  },
  {
   "cell_type": "markdown",
   "metadata": {},
   "source": [
    "# Q3\n",
    "Extract the given cities.csv file and filter the \"Tulsa\" city"
   ]
  },
  {
   "cell_type": "code",
   "execution_count": 3,
   "metadata": {},
   "outputs": [],
   "source": [
    "import pandas as pd\n",
    "cities = pd.read_csv('cities.csv')"
   ]
  },
  {
   "cell_type": "code",
   "execution_count": 4,
   "metadata": {},
   "outputs": [
    {
     "name": "stdout",
     "output_type": "stream",
     "text": [
      "['LatD', ' \"LatM\"', ' \"LatS\"', ' \"NS\"', ' \"LonD\"', ' \"LonM\"', ' \"LonS\"', ' \"EW\"', ' \"City\"', ' \"State\"']\n"
     ]
    }
   ],
   "source": [
    "print(cities.columns.tolist())"
   ]
  },
  {
   "cell_type": "code",
   "execution_count": 5,
   "metadata": {
    "scrolled": false
   },
   "outputs": [],
   "source": [
    "cities.columns = ((cities.columns.str).replace(\"^ \",\"\")).str.replace('\"','')"
   ]
  },
  {
   "cell_type": "code",
   "execution_count": 6,
   "metadata": {},
   "outputs": [
    {
     "data": {
      "text/html": [
       "<div>\n",
       "<style scoped>\n",
       "    .dataframe tbody tr th:only-of-type {\n",
       "        vertical-align: middle;\n",
       "    }\n",
       "\n",
       "    .dataframe tbody tr th {\n",
       "        vertical-align: top;\n",
       "    }\n",
       "\n",
       "    .dataframe thead th {\n",
       "        text-align: right;\n",
       "    }\n",
       "</style>\n",
       "<table border=\"1\" class=\"dataframe\">\n",
       "  <thead>\n",
       "    <tr style=\"text-align: right;\">\n",
       "      <th></th>\n",
       "      <th>LatD</th>\n",
       "      <th>LatM</th>\n",
       "      <th>LatS</th>\n",
       "      <th>NS</th>\n",
       "      <th>LonD</th>\n",
       "      <th>LonM</th>\n",
       "      <th>LonS</th>\n",
       "      <th>EW</th>\n",
       "      <th>City</th>\n",
       "      <th>State</th>\n",
       "    </tr>\n",
       "  </thead>\n",
       "  <tbody>\n",
       "    <tr>\n",
       "      <th>42</th>\n",
       "      <td>36</td>\n",
       "      <td>9</td>\n",
       "      <td>35</td>\n",
       "      <td>\"N\"</td>\n",
       "      <td>95</td>\n",
       "      <td>54</td>\n",
       "      <td>36</td>\n",
       "      <td>\"W\"</td>\n",
       "      <td>\"Tulsa\"</td>\n",
       "      <td>OK</td>\n",
       "    </tr>\n",
       "  </tbody>\n",
       "</table>\n",
       "</div>"
      ],
      "text/plain": [
       "    LatD  LatM  LatS    NS  LonD  LonM  LonS    EW      City State\n",
       "42    36     9    35   \"N\"    95    54    36   \"W\"   \"Tulsa\"    OK"
      ]
     },
     "execution_count": 6,
     "metadata": {},
     "output_type": "execute_result"
    }
   ],
   "source": [
    "cities[cities['City'].str.replace(\"^ \",\"\").str.replace('\"','') == \"Tulsa\"]"
   ]
  },
  {
   "cell_type": "markdown",
   "metadata": {},
   "source": [
    "# Q5\n",
    "Create a Linear diagram to show the following data x = [1, 2, 3, 4], y = [10, 20, 25, 30]"
   ]
  },
  {
   "cell_type": "code",
   "execution_count": 7,
   "metadata": {},
   "outputs": [],
   "source": [
    "import matplotlib.pyplot as plt\n",
    "%matplotlib inline"
   ]
  },
  {
   "cell_type": "code",
   "execution_count": 8,
   "metadata": {},
   "outputs": [
    {
     "data": {
      "text/plain": [
       "Text(0.5, 1.0, 'Linear diagram')"
      ]
     },
     "execution_count": 8,
     "metadata": {},
     "output_type": "execute_result"
    },
    {
     "data": {
      "image/png": "[encoded data removed]",
      "text/plain": [
       "<Figure size 432x288 with 1 Axes>"
      ]
     },
     "metadata": {
      "needs_background": "light"
     },
     "output_type": "display_data"
    }
   ],
   "source": [
    "x = [1, 2, 3, 4]\n",
    "y = [10, 20, 25, 30]\n",
    "plt.plot(x,y)\n",
    "plt.xlabel('x')\n",
    "plt.ylabel('y')\n",
    "plt.title('Linear diagram')"
   ]
  },
  {
   "cell_type": "markdown",
   "metadata": {},
   "source": [
    "# Q6\n",
    "Write a Python class to find the three elements that sum to zero from a set of given input = [-25, -10, -7, -3, 2, 4, 8, 10]"
   ]
  },
  {
   "cell_type": "code",
   "execution_count": 16,
   "metadata": {},
   "outputs": [
    {
     "name": "stdout",
     "output_type": "stream",
     "text": [
      "0\n",
      "0\n",
      "[[-10, 2, 8], [-7, -3, 10]]\n"
     ]
    }
   ],
   "source": [
    "given_input = [-25, -10, -7, -3, 2, 4, 8, 10]\n",
    "\n",
    "def get_second_largest(given_list):\n",
    "    \n",
    "    given_list.sort()\n",
    "    zero_sum_list = []\n",
    "    for i,value in enumerate(given_list):\n",
    "        \n",
    "        start = i + 1\n",
    "        end = len(given_list) - 1\n",
    "        \n",
    "        while(start<end):\n",
    "            \n",
    "            if(end< len(given_list) - 1 and given_list[end] == given_list[end+1]):\n",
    "                end -= 1\n",
    "                continue\n",
    "            \n",
    "            if (given_list[i] + given_list[start] + given_list[end] == 0):\n",
    "                print(str(given_list[i] + given_list[start] + given_list[end]))\n",
    "                zero_sum_list.append([given_list[i] , given_list[start] , given_list[end]])\n",
    "                start+=1\n",
    "                end-=1\n",
    "            elif(given_list[i] + given_list[start] + given_list[end] < 0):\n",
    "                start += 1\n",
    "                \n",
    "            else:\n",
    "                end -= 1\n",
    "            \n",
    "         \n",
    "    return zero_sum_list\n",
    "\n",
    "\n",
    "print(get_second_largest(given_input))\n",
    "\n",
    "class ThreeElements():\n",
    "    def __init__(self, given_list):\n",
    "        self.given_list = given_list\n",
    "        \n",
    "    def sum_to_zero():\n",
    "        given_list.sort()\n",
    "        zero_sum_list = []\n",
    "        for i,value in enumerate(given_list):\n",
    "\n",
    "            start = i + 1\n",
    "            end = len(given_list) - 1\n",
    "\n",
    "            while(start<end):\n",
    "\n",
    "                if(end< len(given_list) - 1 and given_list[end] == given_list[end+1]):\n",
    "                    end -= 1\n",
    "                    continue\n",
    "\n",
    "                if (given_list[i] + given_list[start] + given_list[end] == 0):\n",
    "                    print(str(given_list[i] + given_list[start] + given_list[end]))\n",
    "                    zero_sum_list.append([given_list[i] , given_list[start] , given_list[end]])\n",
    "                    start+=1\n",
    "                    end-=1\n",
    "                elif(given_list[i] + given_list[start] + given_list[end] < 0):\n",
    "                    start += 1\n",
    "\n",
    "                else:\n",
    "                    end -= 1\n",
    "\n",
    "\n",
    "        return zero_sum_list\n"
   ]
  },
  {
   "cell_type": "code",
   "execution_count": null,
   "metadata": {},
   "outputs": [],
   "source": [
    "class name():\n",
    "  def __init__(self, name):\n",
    "    self.name = name\n",
    "  def PrintName(self):\n",
    "    print self.name\n",
    "\n",
    "a = name('bob')\n",
    "a.PrintName()\n",
    "bob"
   ]
  }
 ],
 "metadata": {
  "kernelspec": {
   "display_name": "Python 3",
   "language": "python",
   "name": "python3"
  },
  "language_info": {
   "codemirror_mode": {
    "name": "ipython",
    "version": 3
   },
   "file_extension": ".py",
   "mimetype": "text/x-python",
   "name": "python",
   "nbconvert_exporter": "python",
   "pygments_lexer": "ipython3",
   "version": "3.7.6"
  }
 },
 "nbformat": 4,
 "nbformat_minor": 4
}
